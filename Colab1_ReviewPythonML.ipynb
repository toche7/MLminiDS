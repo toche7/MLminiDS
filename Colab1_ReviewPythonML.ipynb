{
  "cells": [
    {
      "cell_type": "markdown",
      "metadata": {
        "colab_type": "text",
        "id": "view-in-github"
      },
      "source": [
        "<a href=\"https://colab.research.google.com/github/toche7/MLminiDS/blob/main/Colab1_ReviewPythonML.ipynb\" target=\"_parent\"><img src=\"https://colab.research.google.com/assets/colab-badge.svg\" alt=\"Open In Colab\"/></a>"
      ]
    },
    {
      "cell_type": "markdown",
      "metadata": {
        "collapsed": false,
        "id": "Z6waUtwAu6yn"
      },
      "source": [
        "# Colab 1: Review Python for ML\n",
        "\n",
        "Version 002\n",
        "\n",
        "ใน Notebook นี้เป็นตัวอย่างการทำงานของ ML โดยใช้ Library ต่างๆ ที่นิยามใช้กันทางด้าน DS อันได้แก่\n",
        "\n",
        "* numpy\n",
        "* pandas\n",
        "* matplotlib\n",
        "\n",
        "Reference ที่แนะนำ\n",
        "\n",
        "https://jakevdp.github.io/PythonDataScienceHandbook/\n",
        "\n"
      ]
    },
    {
      "cell_type": "code",
      "execution_count": null,
      "metadata": {
        "id": "YiIKkDu_u58I"
      },
      "outputs": [],
      "source": [
        "import numpy as np\n",
        "import pandas as pd\n",
        "import matplotlib.pyplot as plt\n"
      ]
    },
    {
      "cell_type": "markdown",
      "metadata": {
        "collapsed": false,
        "id": "IlxeUC2GwYlI"
      },
      "source": [
        "## 1.Pandas เบื้องต้น\n",
        "\n",
        "ที่มา https://colab.research.google.com/notebooks/mlcc/intro_to_pandas.ipynb#scrollTo=TJffr5_Jwqvd"
      ]
    },
    {
      "cell_type": "markdown",
      "metadata": {
        "collapsed": false,
        "id": "fJwXHYeKyenL"
      },
      "source": [
        "### 1.1 อ่านข้อมูลจากไฟล์ csv"
      ]
    },
    {
      "cell_type": "markdown",
      "metadata": {
        "collapsed": false,
        "id": "wLZAvAsMKhM6"
      },
      "source": [
        "**อ่านข้อมูล**"
      ]
    },
    {
      "cell_type": "code",
      "execution_count": null,
      "metadata": {
        "id": "zNXd4DobCNG-"
      },
      "outputs": [],
      "source": [
        "df = pd.read_csv(\"https://download.mlcc.google.com/mledu-datasets/california_housing_train.csv\", sep=\",\")\n",
        "## !wget https://download.mlcc.google.com/mledu-datasets/california_housing_train.csv -O california_housing_train.csv\n",
        "## df = pd.read_csv(\"california_housing_train.csv\")"
      ]
    },
    {
      "cell_type": "markdown",
      "metadata": {
        "collapsed": false,
        "id": "ANpIzdrFKyOF"
      },
      "source": [
        "**ดูส่วนหัว**"
      ]
    },
    {
      "cell_type": "code",
      "execution_count": null,
      "metadata": {
        "id": "gdJzLiCwCNEB"
      },
      "outputs": [],
      "source": [
        "df.head(10)"
      ]
    },
    {
      "cell_type": "markdown",
      "metadata": {
        "collapsed": false,
        "id": "AIK8_yn2K2GQ"
      },
      "source": [
        "**ดูส่วนท้าย**"
      ]
    },
    {
      "cell_type": "code",
      "execution_count": null,
      "metadata": {
        "id": "7VFyEb4ZG7hV"
      },
      "outputs": [],
      "source": [
        "df.tail()"
      ]
    },
    {
      "cell_type": "markdown",
      "metadata": {
        "collapsed": false,
        "id": "vn228xfOK-92"
      },
      "source": [
        "**สรุปทางสถิติ**"
      ]
    },
    {
      "cell_type": "code",
      "execution_count": null,
      "metadata": {
        "id": "H1czqgJfHr7-"
      },
      "outputs": [],
      "source": [
        "df.describe()"
      ]
    },
    {
      "cell_type": "code",
      "execution_count": null,
      "metadata": {
        "id": "C1ePDRCGMiUq"
      },
      "outputs": [],
      "source": [
        "df.info()"
      ]
    },
    {
      "cell_type": "code",
      "execution_count": null,
      "metadata": {
        "id": "kbl9evRyHCjW"
      },
      "outputs": [],
      "source": [
        "df.hist('housing_median_age')"
      ]
    },
    {
      "cell_type": "markdown",
      "metadata": {
        "collapsed": false,
        "id": "SlQCyxLJLHID"
      },
      "source": [
        "### 1.2 เข้าถึงคอลัมน์"
      ]
    },
    {
      "cell_type": "code",
      "execution_count": null,
      "metadata": {
        "id": "1ggC_96LHMlM"
      },
      "outputs": [],
      "source": [
        "df['housing_median_age']"
      ]
    },
    {
      "cell_type": "markdown",
      "metadata": {
        "collapsed": false,
        "id": "mgw40PNEynUk"
      },
      "source": [
        "**ถ้าชื่อคอลัมน์เป็นสตริงที่ไม่มีช่องว่าง สามารถใช้จุดแทน [] ก็ได้**"
      ]
    },
    {
      "cell_type": "code",
      "execution_count": null,
      "metadata": {
        "id": "SzTz4Rc4Ihnp"
      },
      "outputs": [],
      "source": [
        "df.housing_median_age"
      ]
    },
    {
      "cell_type": "markdown",
      "metadata": {
        "collapsed": false,
        "id": "0e4hks13y3Cf"
      },
      "source": [
        "**เข้าถึงแถว**"
      ]
    },
    {
      "cell_type": "code",
      "execution_count": null,
      "metadata": {
        "id": "M3LsC-TPHYZV"
      },
      "outputs": [],
      "source": [
        "df['housing_median_age'][1]"
      ]
    },
    {
      "cell_type": "code",
      "execution_count": null,
      "metadata": {
        "id": "sn7qKZ5hHfaW"
      },
      "outputs": [],
      "source": [
        "df.housing_median_age[1]"
      ]
    },
    {
      "cell_type": "markdown",
      "metadata": {
        "collapsed": false,
        "id": "GtQYrdrZy_B_"
      },
      "source": [
        "### 1.3 Slice"
      ]
    },
    {
      "cell_type": "markdown",
      "metadata": {
        "collapsed": false,
        "id": "XGsO8oklMiUs"
      },
      "source": [
        "<img src=\".Lab1_ReviewPythonML.ipynb.upload/Screenshot 2566-11-07 at 03.13.00.png\"     style=\"object-fit:cover\"/>\n",
        "\n"
      ]
    },
    {
      "cell_type": "markdown",
      "metadata": {
        "collapsed": false,
        "id": "8PIIHwvkMiUs"
      },
      "source": [
        "##### 1.3.1 เลือกด้วย index และ slice จาก List\n",
        "\n"
      ]
    },
    {
      "cell_type": "code",
      "execution_count": null,
      "metadata": {
        "id": "kVU2dH3kMiUt"
      },
      "outputs": [],
      "source": [
        "x = [2,3,4]"
      ]
    },
    {
      "cell_type": "code",
      "execution_count": null,
      "metadata": {
        "id": "2R3pPkPWMiUt"
      },
      "outputs": [],
      "source": [
        "x[1]"
      ]
    },
    {
      "cell_type": "code",
      "execution_count": null,
      "metadata": {
        "id": "ulMlgFwlMiUt"
      },
      "outputs": [],
      "source": [
        "x[0:1]"
      ]
    },
    {
      "cell_type": "markdown",
      "metadata": {
        "collapsed": false,
        "id": "M5Z55dxUzCae"
      },
      "source": [
        "##### 1.3.2 เลือกด้วย index และ slice จาก DataFrame\n",
        "\n"
      ]
    },
    {
      "cell_type": "code",
      "execution_count": null,
      "metadata": {
        "id": "fhNP3dITMiUt"
      },
      "outputs": [],
      "source": [
        "df[1] # เลือกแถวแบบนี้ไม่ได้"
      ]
    },
    {
      "cell_type": "code",
      "execution_count": null,
      "metadata": {
        "id": "FzO3k0AEMiUt"
      },
      "outputs": [],
      "source": [
        "df[0:1] # ต้องทำการ slice ออกมาแบบนี้ได้"
      ]
    },
    {
      "cell_type": "code",
      "execution_count": null,
      "metadata": {
        "id": "f_YQY77EI6Al"
      },
      "outputs": [],
      "source": [
        "df[7:9]"
      ]
    },
    {
      "cell_type": "code",
      "execution_count": null,
      "metadata": {
        "id": "xIxHH1WwJQub"
      },
      "outputs": [],
      "source": [
        "df[16998:]"
      ]
    },
    {
      "cell_type": "code",
      "execution_count": null,
      "metadata": {
        "id": "F5_XFxk9JcxF"
      },
      "outputs": [],
      "source": [
        "df[:2]"
      ]
    },
    {
      "cell_type": "markdown",
      "metadata": {
        "collapsed": false,
        "id": "pl6-YFD001Mm"
      },
      "source": [
        "ใช้ index เป็นลบก็ได้"
      ]
    },
    {
      "cell_type": "code",
      "execution_count": null,
      "metadata": {
        "id": "9aGywm1PJBVv"
      },
      "outputs": [],
      "source": [
        "df[-3:]"
      ]
    },
    {
      "cell_type": "code",
      "execution_count": null,
      "metadata": {
        "id": "foKlUDto0fxA"
      },
      "outputs": [],
      "source": [
        "df[:-16998]"
      ]
    },
    {
      "cell_type": "code",
      "execution_count": null,
      "metadata": {
        "id": "SFIumcK30t3z"
      },
      "outputs": [],
      "source": [
        "df[-10:-7]"
      ]
    },
    {
      "cell_type": "code",
      "execution_count": null,
      "metadata": {
        "id": "IcB_hTTkJMxh"
      },
      "outputs": [],
      "source": [
        "df[:]"
      ]
    },
    {
      "cell_type": "markdown",
      "metadata": {
        "collapsed": false,
        "id": "i7vKvTJyzXGe"
      },
      "source": [
        "**เลือกคอลัมน์**"
      ]
    },
    {
      "cell_type": "code",
      "execution_count": null,
      "metadata": {
        "id": "QGc1BMdIzct5"
      },
      "outputs": [],
      "source": [
        "df[['total_rooms', 'total_bedrooms', 'population']]"
      ]
    },
    {
      "cell_type": "markdown",
      "metadata": {
        "collapsed": false,
        "id": "Wz0snBJKz_TN"
      },
      "source": [
        "**เลือกคอลัมน์และแถว**"
      ]
    },
    {
      "cell_type": "code",
      "execution_count": null,
      "metadata": {
        "id": "tc0g4JoDJ1Q8"
      },
      "outputs": [],
      "source": [
        "df['total_rooms'][0:2] # สังเกตุว่าผลลัพธ์ออกมาเป็น Pandas.Serie ไม่ใช้ Pandas.DataFrame"
      ]
    },
    {
      "cell_type": "code",
      "execution_count": null,
      "metadata": {
        "id": "Pojc7QeEKAAn"
      },
      "outputs": [],
      "source": [
        "df[0:2]['total_rooms']"
      ]
    },
    {
      "cell_type": "code",
      "execution_count": null,
      "metadata": {
        "id": "dW6X6-6DKE38"
      },
      "outputs": [],
      "source": [
        "df.total_rooms[0:2]"
      ]
    },
    {
      "cell_type": "code",
      "execution_count": null,
      "metadata": {
        "id": "6TFOc9gpKLhr"
      },
      "outputs": [],
      "source": [
        "df[0:2].total_rooms"
      ]
    },
    {
      "cell_type": "code",
      "execution_count": null,
      "metadata": {
        "id": "BS7dhXIl0JUa"
      },
      "outputs": [],
      "source": [
        "df[['total_rooms', 'total_bedrooms', 'population']][-5:-3]"
      ]
    },
    {
      "cell_type": "code",
      "execution_count": null,
      "metadata": {
        "id": "1IEOEtOY0W9c"
      },
      "outputs": [],
      "source": [
        "df[-5:-3][['total_rooms', 'total_bedrooms',\t'population']]"
      ]
    },
    {
      "cell_type": "markdown",
      "metadata": {
        "collapsed": false,
        "id": "iD15NiJuMiUy"
      },
      "source": [
        "อยากให้สังเกตุว่าการเรียกใช้แบบ [['x']] และ ['x'] จะให้ผลลัพธ์กการเรียกใช้ที่แตกต่างกันคือ [['x']] จะได้ผลลัพธ์ออกมาเป็น DataFrame ส่วน ['x'] จะให้ผลลัพธ์ออกมาเป็น Serie"
      ]
    },
    {
      "cell_type": "markdown",
      "metadata": {
        "collapsed": false,
        "id": "cJ25O-Kn3WIv"
      },
      "source": [
        "### 1.4 ดำเนินการทางคณิตศาสตร์"
      ]
    },
    {
      "cell_type": "code",
      "execution_count": null,
      "metadata": {
        "id": "j5BZSe3f3o8c"
      },
      "outputs": [],
      "source": [
        "result = df['total_rooms']/df['total_bedrooms'] * df['population']\n",
        "result.head()"
      ]
    },
    {
      "cell_type": "code",
      "execution_count": null,
      "metadata": {
        "id": "BtLoLjv4MiUz"
      },
      "outputs": [],
      "source": [
        "dir(df)"
      ]
    },
    {
      "cell_type": "markdown",
      "metadata": {
        "collapsed": false,
        "id": "R81fzM8s8qKp"
      },
      "source": [
        "### พล็อตกราฟได้"
      ]
    },
    {
      "cell_type": "code",
      "execution_count": null,
      "metadata": {
        "id": "n1zB5y9N8wQY"
      },
      "outputs": [],
      "source": [
        "df['total_rooms'].plot()\n",
        "# df.total_rooms.plot()"
      ]
    },
    {
      "cell_type": "markdown",
      "metadata": {
        "collapsed": false,
        "id": "trN4FFGh9b_L"
      },
      "source": [
        "พล็อตกราฟพร้อมกันได้"
      ]
    },
    {
      "cell_type": "code",
      "execution_count": null,
      "metadata": {
        "id": "GWwD-XHV9U2A"
      },
      "outputs": [],
      "source": [
        "df[['total_rooms', 'total_bedrooms',\t'population']].plot()"
      ]
    },
    {
      "cell_type": "markdown",
      "metadata": {
        "collapsed": false,
        "id": "ae2KBZ6p9HkO"
      },
      "source": [
        "เลือกบางแถวมาก็ยังได้\n"
      ]
    },
    {
      "cell_type": "code",
      "execution_count": null,
      "metadata": {
        "id": "k1xuqNHB9EmL"
      },
      "outputs": [],
      "source": [
        "df[-5:-3][['total_rooms', 'total_bedrooms',\t'population']].plot()"
      ]
    },
    {
      "cell_type": "markdown",
      "metadata": {
        "collapsed": false,
        "id": "FoHvaZtm1geC"
      },
      "source": [
        "## พล็อตกราฟเบื้องต้น"
      ]
    },
    {
      "cell_type": "markdown",
      "metadata": {
        "collapsed": false,
        "id": "u1X6WVcS6XYK"
      },
      "source": [
        "### Pie chart"
      ]
    },
    {
      "cell_type": "code",
      "execution_count": null,
      "metadata": {
        "id": "v_3eEj3e6Uhs"
      },
      "outputs": [],
      "source": [
        "# https://pythonspot.com/matplotlib-pie-chart/\n",
        "import matplotlib.pyplot as plt\n",
        "\n",
        "# Data to plot\n",
        "labels = 'Python', 'C++', 'Ruby', 'Java'\n",
        "sizes = [215, 130, 245, 210]\n",
        "colors = ['gold', 'yellowgreen', 'lightcoral', 'lightskyblue']\n",
        "explode = (0.1, 0, 0, 0)  # explode 1st slice\n",
        "\n",
        "# Plot\n",
        "plt.pie(sizes, explode=explode, labels=labels, colors=colors,\n",
        "autopct='%1.1f%%', shadow=True, startangle=140)\n",
        "\n",
        "plt.axis('equal')\n",
        "plt.show"
      ]
    },
    {
      "cell_type": "markdown",
      "metadata": {
        "collapsed": false,
        "id": "81yRJQKl6gSt"
      },
      "source": [
        "### Bar chart"
      ]
    },
    {
      "cell_type": "code",
      "execution_count": null,
      "metadata": {
        "id": "awVlWSXb6k2E"
      },
      "outputs": [],
      "source": [
        "#https://pythonspot.com/matplotlib-bar-chart/\n",
        "import matplotlib.pyplot as plt; plt.rcdefaults()\n",
        "import numpy as np\n",
        "import matplotlib.pyplot as plt\n",
        "\n",
        "objects = ('Python', 'C++', 'Java', 'Perl', 'Scala', 'Lisp')\n",
        "y_pos = np.arange(len(objects))\n",
        "performance = [10,8,6,4,2,1]\n",
        "\n",
        "plt.bar(y_pos, performance, align='center', alpha=0.5)\n",
        "plt.xticks(y_pos, objects)\n",
        "plt.ylabel('Usage')\n",
        "plt.title('Programming language usage')\n",
        "\n",
        "plt.show()"
      ]
    },
    {
      "cell_type": "markdown",
      "metadata": {
        "collapsed": false,
        "id": "shTnMq4O6w9P"
      },
      "source": [
        "### Line graph"
      ]
    },
    {
      "cell_type": "code",
      "execution_count": null,
      "metadata": {
        "id": "d3S31-th6y1S"
      },
      "outputs": [],
      "source": [
        "#https://pythonspot.com/matplotlib-line-chart/\n",
        "#from pylab import *\n",
        "import matplotlib.pyplot as plt\n",
        "import numpy as np\n",
        "import math\n",
        "\n",
        "t = np.arange(0.0, 2.0, 0.01)\n",
        "s = np.sin(2.5*math.pi*t)\n",
        "plt.plot(t, s)\n",
        "\n",
        "plt.xlabel('time (s)')\n",
        "plt.ylabel('voltage (mV)')\n",
        "plt.title('Sine Wave')\n",
        "plt.grid(True)\n",
        "plt.show()"
      ]
    },
    {
      "cell_type": "markdown",
      "metadata": {
        "collapsed": false,
        "id": "ULGouirX69YF"
      },
      "source": [
        "### Scatter plot"
      ]
    },
    {
      "cell_type": "code",
      "execution_count": null,
      "metadata": {
        "id": "HWRRW1_Z7BLP"
      },
      "outputs": [],
      "source": [
        "# https://pythonspot.com/matplotlib-scatterplot/\n",
        "import numpy as np\n",
        "import matplotlib.pyplot as plt\n",
        "\n",
        "# Create data\n",
        "N = 500\n",
        "x = np.random.rand(N)\n",
        "y = np.random.rand(N)\n",
        "colors = 'r'\n",
        "area = np.pi*3\n",
        "\n",
        "# Plot\n",
        "plt.scatter(x, y, s=area, c=colors, alpha=0.5)\n",
        "plt.title('Scatter plot pythonspot.com')\n",
        "plt.xlabel('x')\n",
        "plt.ylabel('y')\n",
        "plt.show()"
      ]
    },
    {
      "cell_type": "code",
      "execution_count": null,
      "metadata": {
        "id": "5wQCZ4D3MiU1"
      },
      "outputs": [],
      "source": []
    }
  ],
  "metadata": {
    "colab": {
      "include_colab_link": true,
      "provenance": []
    },
    "kernelspec": {
      "argv": [
        "/usr/bin/python3",
        "-m",
        "ipykernel",
        "--HistoryManager.enabled=False",
        "--matplotlib=inline",
        "-c",
        "%config InlineBackend.figure_formats = set(['retina'])\nimport matplotlib; matplotlib.rcParams['figure.figsize'] = (12, 7)",
        "-f",
        "{connection_file}"
      ],
      "display_name": "Python 3 (system-wide)",
      "env": {},
      "language": "python",
      "metadata": {
        "cocalc": {
          "description": "Python 3 programming language",
          "priority": 100,
          "url": "https://www.python.org/"
        }
      },
      "name": "python3",
      "resource_dir": "/ext/jupyter/kernels/python3"
    },
    "language_info": {
      "codemirror_mode": {
        "name": "ipython",
        "version": 3
      },
      "file_extension": ".py",
      "mimetype": "text/x-python",
      "name": "python",
      "nbconvert_exporter": "python",
      "pygments_lexer": "ipython3",
      "version": "3.10.12"
    },
    "nbgrader": {
      "cocalc_minimal_stubs": false
    }
  },
  "nbformat": 4,
  "nbformat_minor": 0
}
