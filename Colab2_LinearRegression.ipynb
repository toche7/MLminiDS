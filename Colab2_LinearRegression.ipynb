{
  "cells": [
    {
      "cell_type": "markdown",
      "metadata": {
        "colab_type": "text",
        "id": "view-in-github"
      },
      "source": [
        "<a href=\"https://colab.research.google.com/github/toche7/MLminiDS/blob/main/Colab2_LinearRegression.ipynb\" target=\"_parent\"><img src=\"https://colab.research.google.com/assets/colab-badge.svg\" alt=\"Open In Colab\"/></a>"
      ]
    },
    {
      "cell_type": "markdown",
      "metadata": {
        "collapsed": false,
        "id": "Z6waUtwAu6yn"
      },
      "source": [
        "# Colab 2:  Linear Regression\n",
        "verison 002"
      ]
    },
    {
      "cell_type": "markdown",
      "metadata": {
        "collapsed": false,
        "id": "8mz8AU0yYeXv"
      },
      "source": [
        "## 1. Example of using SKlearn for model development"
      ]
    },
    {
      "cell_type": "markdown",
      "metadata": {
        "collapsed": false,
        "id": "B1IZbGHpYeXw"
      },
      "source": [
        "https://scikit-learn.org/stable/modules/generated/sklearn.linear_model.LinearRegression.html#sklearn.linear_model.LinearRegression\n"
      ]
    },
    {
      "cell_type": "markdown",
      "metadata": {
        "collapsed": false,
        "id": "lnLmAbM9YeXw",
        "nbgrader": {
          "grade": false,
          "grade_id": "c4785d",
          "locked": true,
          "schema_version": 3,
          "solution": false,
          "task": false
        }
      },
      "source": [
        "```\n",
        "from sklearn.linear_model import LinearRegression\n",
        "reg = LinearRegression()\n",
        "reg.fit(X, y)\n",
        "```\n",
        "\n"
      ]
    },
    {
      "cell_type": "markdown",
      "metadata": {
        "collapsed": false,
        "id": "eWkBJWXzYeXw"
      },
      "source": [
        "| Method | Description |\n",
        "| ------------|------------ |\n",
        "| fit(X, y ) | Fit linear model. |\n",
        "| predict(X) | Predict using the linear model. |\n",
        "| score(X, y) | Return the coefficient of determination of the prediction.|\n",
        "\n"
      ]
    },
    {
      "cell_type": "markdown",
      "metadata": {
        "collapsed": false,
        "id": "Cme7PW_hYeXx"
      },
      "source": [
        "### 1.1 Data must be correct format\n",
        "\n"
      ]
    },
    {
      "cell_type": "markdown",
      "metadata": {
        "collapsed": false,
        "id": "sTzZHMjEYeXy"
      },
      "source": [
        "เนื่องจากการทำนาย X จะเป็นข้อมูลที่ประกอบไปด้วยหลาย feature ได้ นั้นคือ 1 recorded จะประกอบไปด้วยหลายคอลัมน์ได้\n",
        "ส่วนของ y นั้นจะไปประกอบไปด้วยแค่หนึ่งคอลัมน์\n",
        "\n",
        "ด้วยเหตุนี้\n",
        "\n",
        "1. X จะต้องเป็นของมูลระดับ 2 มิติ\n",
        "2. y จะเป็นของมูลแบบมิติเดียวได้"
      ]
    },
    {
      "cell_type": "code",
      "execution_count": null,
      "metadata": {
        "id": "TWDX7ivYYeXy"
      },
      "outputs": [],
      "source": [
        "X = [[0, 0, 1], [1, 1, 2], [2, 2, 3]]\n",
        "y =  [0, 1, 2]"
      ]
    },
    {
      "cell_type": "markdown",
      "metadata": {
        "collapsed": false,
        "id": "gFwuRNaQYeXz"
      },
      "source": [
        "### 1.2 Create model object from a class"
      ]
    },
    {
      "cell_type": "markdown",
      "metadata": {
        "collapsed": false,
        "id": "lvVHoEHlYeX0"
      },
      "source": [
        "ก่อนสร้าง model  จะต้องมีการสร้าง object ที่มาจาก class model ที่เราต้องการเช่น Linear Regression เราก็ต้องสร้าง object ขึ้นมาดังนี้"
      ]
    },
    {
      "cell_type": "code",
      "execution_count": null,
      "metadata": {
        "id": "BlV04UdhYeX0"
      },
      "outputs": [],
      "source": [
        "from sklearn import linear_model\n",
        "reg = linear_model.LinearRegression()"
      ]
    },
    {
      "cell_type": "markdown",
      "metadata": {
        "collapsed": false,
        "id": "TX_5zfxIYeX0"
      },
      "source": [
        "### 1.3 Fit model with train set"
      ]
    },
    {
      "cell_type": "markdown",
      "metadata": {
        "collapsed": false,
        "id": "LDeNyTgAYeX0"
      },
      "source": [
        "เมื่อสร้าง object แล้วเราก็นำไป Training เพื่อหาค่าสัมประสิทธิ์ หรือ weight ของ model ใน library ของ python จะใช้คำว่า fit แทน Training"
      ]
    },
    {
      "cell_type": "code",
      "execution_count": null,
      "metadata": {
        "id": "sa60Aju2YeX0"
      },
      "outputs": [],
      "source": [
        "reg.fit(X,y)\n",
        "reg.coef_"
      ]
    },
    {
      "cell_type": "code",
      "execution_count": null,
      "metadata": {
        "id": "Imvd-f2gYeX1"
      },
      "outputs": [],
      "source": [
        "reg.intercept_"
      ]
    },
    {
      "cell_type": "markdown",
      "metadata": {
        "collapsed": false,
        "id": "G7KAJ_F9YeX1"
      },
      "source": [
        "### 1.4 Apply model with new data"
      ]
    },
    {
      "cell_type": "markdown",
      "metadata": {
        "collapsed": false,
        "id": "-23D1pxGYeX2"
      },
      "source": [
        "หลังจากผ่านการฝึกแล้วสามารถนำ model ไปทำนายค่าต่างๆ"
      ]
    },
    {
      "cell_type": "code",
      "execution_count": null,
      "metadata": {
        "id": "T8wPu-IbYeX2"
      },
      "outputs": [],
      "source": [
        "reg.predict([[0,0,1]])"
      ]
    },
    {
      "cell_type": "code",
      "execution_count": null,
      "metadata": {
        "id": "qC2GaDuwYeX2"
      },
      "outputs": [],
      "source": [
        "reg.predict(X)"
      ]
    },
    {
      "cell_type": "markdown",
      "metadata": {
        "collapsed": false,
        "id": "aDfArJvzYeX2"
      },
      "source": [
        "### 1.5 Score the model performance"
      ]
    },
    {
      "cell_type": "markdown",
      "metadata": {
        "collapsed": false,
        "id": "qCQSCfIFYeX3"
      },
      "source": [
        "การวัดประสิทธิภาพของ model สามารถทำด้วยการใช้คำสั่ง score ซึ่งจะขึ้นอยู่กับ model ด้วยว่าเป็นโมเดลชนิดไหนการเรียกคำสั่งนี้ก็จะปรับไปตาม model เช่น score ของ Linear Regression ก็จะได้เป็นค่า  $R^2$ ของ model\n"
      ]
    },
    {
      "cell_type": "code",
      "execution_count": null,
      "metadata": {
        "id": "zUDlEbtxYeX3"
      },
      "outputs": [],
      "source": [
        "reg.score(X,y)"
      ]
    },
    {
      "cell_type": "code",
      "execution_count": null,
      "metadata": {
        "id": "NIL_mfSaYeX3"
      },
      "outputs": [],
      "source": []
    },
    {
      "cell_type": "code",
      "execution_count": null,
      "metadata": {
        "id": "fBVFhtidYeX3"
      },
      "outputs": [],
      "source": []
    },
    {
      "cell_type": "code",
      "execution_count": null,
      "metadata": {
        "id": "HNDLIJ6mYeX3"
      },
      "outputs": [],
      "source": []
    },
    {
      "cell_type": "markdown",
      "metadata": {
        "collapsed": false,
        "id": "6gDxl408YeX3"
      },
      "source": [
        "## 2. Air Plan Fuel Cost Example"
      ]
    },
    {
      "cell_type": "markdown",
      "metadata": {
        "collapsed": false,
        "id": "8lxMoSzWYeX3"
      },
      "source": [
        "### 2.1 Data set"
      ]
    },
    {
      "cell_type": "code",
      "execution_count": null,
      "metadata": {
        "id": "gxgq0VHGYeX4"
      },
      "outputs": [],
      "source": [
        "x = [61, 63, 67, 69, 70, 74, 76, 81, 86, 91,95,97]\n",
        "y = [4.28, 4.08, 4.42, 4.17, 4.48, 4.3, 4.82, 4.7, 5.11, 5.13, 5.64, 5.56]"
      ]
    },
    {
      "cell_type": "code",
      "execution_count": null,
      "metadata": {
        "id": "zEJe4lWTYeX4"
      },
      "outputs": [],
      "source": [
        "# df = pd.read_excel('https://github.com/toche7/DataSets/raw/main/cost.xlsx')"
      ]
    },
    {
      "cell_type": "code",
      "execution_count": null,
      "metadata": {
        "id": "jqd52E8VYeX4"
      },
      "outputs": [],
      "source": [
        "import matplotlib.pyplot as plt\n",
        "\n",
        "plt.scatter(x,y)"
      ]
    },
    {
      "cell_type": "markdown",
      "metadata": {
        "collapsed": false,
        "id": "YqrEBmxdYeX4"
      },
      "source": [
        "### 2.2 Create model object"
      ]
    },
    {
      "cell_type": "code",
      "execution_count": null,
      "metadata": {
        "id": "f_zu12zeYeX4"
      },
      "outputs": [],
      "source": [
        "from sklearn import linear_model\n",
        "reg1 = linear_model.LinearRegression()"
      ]
    },
    {
      "cell_type": "markdown",
      "metadata": {
        "collapsed": false,
        "id": "0lh2grovYeX4"
      },
      "source": [
        "### 2.3 Prepare data for model training"
      ]
    },
    {
      "cell_type": "code",
      "execution_count": null,
      "metadata": {
        "id": "GW-QaDTFYeX4"
      },
      "outputs": [],
      "source": [
        "import numpy as np"
      ]
    },
    {
      "cell_type": "code",
      "execution_count": null,
      "metadata": {
        "id": "LcvkEeyQYeX4"
      },
      "outputs": [],
      "source": [
        "X =  np.array(x).reshape(-1,1)"
      ]
    },
    {
      "cell_type": "code",
      "execution_count": null,
      "metadata": {
        "id": "I7wZYn_XYeX5"
      },
      "outputs": [],
      "source": [
        "X"
      ]
    },
    {
      "cell_type": "markdown",
      "metadata": {
        "collapsed": false,
        "id": "A5TO3w55YeX5"
      },
      "source": [
        "### 2.4 Model training"
      ]
    },
    {
      "cell_type": "code",
      "execution_count": null,
      "metadata": {
        "id": "F0CVUnKuYeX5"
      },
      "outputs": [],
      "source": [
        "reg1.fit(X,y)"
      ]
    },
    {
      "cell_type": "code",
      "execution_count": null,
      "metadata": {
        "id": "cV3arI-OYeX5"
      },
      "outputs": [],
      "source": [
        "reg1.coef_"
      ]
    },
    {
      "cell_type": "code",
      "execution_count": null,
      "metadata": {
        "id": "WaPRMWL3YeX5"
      },
      "outputs": [],
      "source": [
        "reg1.intercept_"
      ]
    },
    {
      "cell_type": "markdown",
      "metadata": {
        "collapsed": false,
        "id": "g3GPyp-XYeX5"
      },
      "source": [
        "### 2.5 Apply model with some data"
      ]
    },
    {
      "cell_type": "code",
      "execution_count": null,
      "metadata": {
        "id": "sQNtrJENYeX6"
      },
      "outputs": [],
      "source": [
        "reg1.predict(X)"
      ]
    },
    {
      "cell_type": "code",
      "execution_count": null,
      "metadata": {
        "id": "MhUOo3VoYeX6"
      },
      "outputs": [],
      "source": [
        "yhat = reg1.predict(X)"
      ]
    },
    {
      "cell_type": "code",
      "execution_count": null,
      "metadata": {
        "id": "CLv6Mu88YeX6"
      },
      "outputs": [],
      "source": [
        "plt.scatter(x,y)\n",
        "plt.plot(x,yhat,'r');\n"
      ]
    },
    {
      "cell_type": "markdown",
      "metadata": {
        "collapsed": false,
        "id": "0D4GvszYYeX6"
      },
      "source": [
        "### 2.6 Performance evaluation"
      ]
    },
    {
      "cell_type": "code",
      "execution_count": null,
      "metadata": {
        "id": "pgreH0uKYeX6"
      },
      "outputs": [],
      "source": [
        "reg1.score(X,y)"
      ]
    },
    {
      "cell_type": "code",
      "execution_count": null,
      "metadata": {
        "id": "CoDQ5ou4YeX6"
      },
      "outputs": [],
      "source": []
    },
    {
      "cell_type": "markdown",
      "metadata": {
        "collapsed": false,
        "id": "WI6eX5YTYeX6"
      },
      "source": [
        "## 3. Wildebeest and Zebra"
      ]
    },
    {
      "cell_type": "code",
      "execution_count": null,
      "metadata": {
        "id": "pgd5YTB5YeX6"
      },
      "outputs": [],
      "source": [
        "import numpy as py\n",
        "import pandas as pd\n",
        "import matplotlib.pyplot as plt"
      ]
    },
    {
      "cell_type": "markdown",
      "metadata": {
        "collapsed": false,
        "id": "ueKaxZPMuvMo"
      },
      "source": [
        "### 3.1 ดาวน์โหลด data set\n",
        "\n"
      ]
    },
    {
      "cell_type": "code",
      "execution_count": null,
      "metadata": {
        "id": "AC9ppThzuygy"
      },
      "outputs": [],
      "source": [
        "df = pd.read_csv(\"https://raw.githubusercontent.com/adminho/machine-learning/master/Datasets/predator_dataset.csv\", sep=\",\")"
      ]
    },
    {
      "cell_type": "markdown",
      "metadata": {
        "collapsed": false,
        "id": "5s_hLwna547I"
      },
      "source": [
        "ดูข้อมูลใน dataset"
      ]
    },
    {
      "cell_type": "code",
      "execution_count": null,
      "metadata": {
        "id": "GEIEkcEuvFod"
      },
      "outputs": [],
      "source": [
        "#df = pd.read_csv(\"predator_dataset.csv\")\n",
        "df.head()"
      ]
    },
    {
      "cell_type": "markdown",
      "metadata": {
        "collapsed": false,
        "id": "ufB1LysyCxR-"
      },
      "source": [
        "ลองพล็อตกราฟดู dataset"
      ]
    },
    {
      "cell_type": "code",
      "execution_count": null,
      "metadata": {
        "id": "7WIm61YtCrS0"
      },
      "outputs": [],
      "source": [
        "plt.title(\"Wildebeest vs Zebra\")\n",
        "plt.xlabel('Wildebeest')\n",
        "plt.ylabel('Zebra')\n",
        "plt.plot(df.Wildebeest, df.Zebra, 'ob')\n",
        "plt.show()"
      ]
    },
    {
      "cell_type": "markdown",
      "metadata": {
        "collapsed": false,
        "id": "6FnZ7HjjuF47"
      },
      "source": [
        "### 3.2  Create and train model\n"
      ]
    },
    {
      "cell_type": "code",
      "execution_count": null,
      "metadata": {
        "id": "A3MkB8nnua-H"
      },
      "outputs": [],
      "source": [
        "from sklearn.linear_model import LinearRegression\n",
        "\n",
        "regr = LinearRegression()  # create object 'regr' from class LinearRegression"
      ]
    },
    {
      "cell_type": "code",
      "execution_count": null,
      "metadata": {
        "id": "e19IdURAYeX7"
      },
      "outputs": [],
      "source": [
        " df.Wildebeest.values.reshape(-1,1) # format data for training"
      ]
    },
    {
      "cell_type": "code",
      "execution_count": null,
      "metadata": {
        "id": "c-VTSPyGYeX8"
      },
      "outputs": [],
      "source": [
        "X = df.Wildebeest.values.reshape(-1, 1)\n",
        "Y = df.Zebra #.values.reshape(-1, 1)"
      ]
    },
    {
      "cell_type": "code",
      "execution_count": null,
      "metadata": {
        "id": "5osxO797YeX8"
      },
      "outputs": [],
      "source": [
        "regr.fit(X, Y) # Fitting or Training"
      ]
    },
    {
      "cell_type": "code",
      "execution_count": null,
      "metadata": {
        "id": "b5Fyg2A4YeX8"
      },
      "outputs": [],
      "source": [
        "regr.coef_"
      ]
    },
    {
      "cell_type": "code",
      "execution_count": null,
      "metadata": {
        "id": "APfjiSmDYeX8"
      },
      "outputs": [],
      "source": [
        "regr.intercept_"
      ]
    },
    {
      "cell_type": "markdown",
      "metadata": {
        "collapsed": false,
        "id": "EuoTxqDeYeX8"
      },
      "source": [
        "### 3.2 Apply Model and Performance Evaluation"
      ]
    },
    {
      "cell_type": "markdown",
      "metadata": {
        "collapsed": false,
        "id": "ofIlW6l-t9oI"
      },
      "source": [
        "แสดงกราฟเส้นตรงที่เกิดจากวิธี regression"
      ]
    },
    {
      "cell_type": "code",
      "execution_count": null,
      "metadata": {
        "id": "NcQ38aTlt8sO"
      },
      "outputs": [],
      "source": [
        "from sklearn.metrics import mean_squared_error\n",
        "predict = regr.predict(X) # prediction\n",
        "mse = mean_squared_error(Y, predict)\n",
        "print(\"intercept=%s, coefficient=%s, MSE=%s\" %(regr.intercept_, regr.coef_, mse))"
      ]
    },
    {
      "cell_type": "code",
      "execution_count": null,
      "metadata": {
        "id": "BmX5mAb8YeX9"
      },
      "outputs": [],
      "source": [
        "plt.title(\"Wildebeest vs Zebra\")\n",
        "plt.xlabel('Wildebeest')\n",
        "plt.ylabel('Zebra')\n",
        "plt.plot(X, Y, 'ob', label='Actual')\n",
        "plt.plot(X, predict, '-r', label='Predict')\n",
        "plt.legend(loc='upper left')\n",
        "plt.show()"
      ]
    },
    {
      "cell_type": "markdown",
      "metadata": {
        "collapsed": false,
        "id": "fWnpSV855qLM"
      },
      "source": [
        "ข้อมูลไม่เคยพบมาก่อน"
      ]
    },
    {
      "cell_type": "code",
      "execution_count": null,
      "metadata": {
        "id": "NQMEVtOr5jGX"
      },
      "outputs": [],
      "source": [
        "x = 200\n",
        "\n",
        "answer = regr.predict([[x]])\n",
        "print(\"มีจำนวนม้าลาย (พันตัว): %.2f\" % answer)"
      ]
    },
    {
      "cell_type": "markdown",
      "metadata": {
        "collapsed": false,
        "id": "h-qw79K_x1NQ"
      },
      "source": [
        "ลองพล็อตกราฟดูคำตอบ"
      ]
    },
    {
      "cell_type": "code",
      "execution_count": null,
      "metadata": {
        "id": "Cd-kId4cxxi-"
      },
      "outputs": [],
      "source": [
        "plt.title(\"Wildebeest vs Zebra\")\n",
        "plt.xlabel('Wildebeest')\n",
        "plt.ylabel('Zebra')\n",
        "plt.plot(X, Y, 'ob', label='Actual')\n",
        "\n",
        "_X = np.append(X, x)\n",
        "_predict = np.append(predict, answer)\n",
        "plt.plot(_X, _predict, '-r', lw=1, label='Predict')\n",
        "plt.scatter([[x]], answer, s=200, c='g', marker='*', label='answer')\n",
        "plt.legend(loc='upper left')\n",
        "plt.show()"
      ]
    },
    {
      "cell_type": "code",
      "execution_count": null,
      "metadata": {
        "id": "iWpm1ponYeX9"
      },
      "outputs": [],
      "source": []
    },
    {
      "cell_type": "code",
      "execution_count": null,
      "metadata": {
        "id": "6ejexPKTYeX-"
      },
      "outputs": [],
      "source": []
    },
    {
      "cell_type": "code",
      "execution_count": null,
      "metadata": {
        "id": "ZdbcPIt5YeX-"
      },
      "outputs": [],
      "source": []
    },
    {
      "cell_type": "code",
      "execution_count": null,
      "metadata": {
        "id": "mmn988-lYeX-"
      },
      "outputs": [],
      "source": []
    },
    {
      "cell_type": "code",
      "execution_count": null,
      "metadata": {
        "id": "5sQeK2kcYeX-"
      },
      "outputs": [],
      "source": []
    }
  ],
  "metadata": {
    "colab": {
      "include_colab_link": true,
      "provenance": []
    },
    "kernelspec": {
      "argv": [
        "/usr/bin/python3",
        "-m",
        "ipykernel",
        "--HistoryManager.enabled=False",
        "--matplotlib=inline",
        "-c",
        "%config InlineBackend.figure_formats = set(['retina'])\nimport matplotlib; matplotlib.rcParams['figure.figsize'] = (12, 7)",
        "-f",
        "{connection_file}"
      ],
      "display_name": "Python 3 (system-wide)",
      "env": {},
      "language": "python",
      "metadata": {
        "cocalc": {
          "description": "Python 3 programming language",
          "priority": 100,
          "url": "https://www.python.org/"
        }
      },
      "name": "python3",
      "resource_dir": "/ext/jupyter/kernels/python3"
    },
    "language_info": {
      "codemirror_mode": {
        "name": "ipython",
        "version": 3
      },
      "file_extension": ".py",
      "mimetype": "text/x-python",
      "name": "python",
      "nbconvert_exporter": "python",
      "pygments_lexer": "ipython3",
      "version": "3.10.13"
    },
    "nbgrader": {
      "__altered": false,
      "__hash": -335098374,
      "_root": {
        "entries": [
          [
            "cocalc_minimal_stubs",
            false
          ]
        ],
        "ownerID": {}
      },
      "cocalc_minimal_stubs": false,
      "size": 1
    }
  },
  "nbformat": 4,
  "nbformat_minor": 0
}
